{
 "cells": [
  {
   "cell_type": "markdown",
   "metadata": {},
   "source": [
    "# 4장. API 사용"
   ]
  },
  {
   "cell_type": "markdown",
   "metadata": {},
   "source": [
    "- API는 서로 정보를 공유해야 하는 소프트웨어 사이에서 국제어 구실을 하도록 디자인된 것(정형화된 문법 사용)\n",
    "- API가 요청을 보낼 때는 HTTP를 통해 데이터를 요청하며, API는 이 데이터를 XML이나 JSON 형식으로 반환!"
   ]
  },
  {
   "cell_type": "markdown",
   "metadata": {},
   "source": [
    "### 4.2 공통 표기법\n",
    "\n",
    "#### 4.2.1 Method\n",
    "\n",
    "- GET : 주소 표시줄을 통해 웹사이트에 방문할 때 쓰는 방법\n",
    "- POST : 서버에 있는 스크립트에 정보를 보낼 때 사용 / 사용자 이름과 암호화된 비밀번호를 보낼 때도 사용\n",
    "- PUT : 객체나 정보를 업데이트시 사용\n",
    "- DELETE : 객체를 삭제할 떄 사용\n",
    "\n",
    "#### 4.2.2 인증\n",
    "\n",
    "- 최신 API는 거의 인증을 해야 사용할 수 있음\n",
    "- 일종의 토큰을 사용하며 호출할 때마다 토큰이 웹 서버에 전송됨-!\n",
    "- 보통 아래처럼 사용합니다"
   ]
  },
  {
   "cell_type": "code",
   "execution_count": 8,
   "metadata": {
    "collapsed": true
   },
   "outputs": [],
   "source": [
    "import urllib.request"
   ]
  },
  {
   "cell_type": "code",
   "execution_count": null,
   "metadata": {
    "collapsed": true
   },
   "outputs": [],
   "source": [
    "token = [\"your api key\"]\n",
    "webRequest = urllib.request.Request(\"http://myapi.com\", headers={\"token\":token})\n",
    "html = urlopen(webRequest)"
   ]
  },
  {
   "cell_type": "markdown",
   "metadata": {},
   "source": [
    "### 4.3 응답\n",
    "\n",
    "- JSON 파일이 XML 데이터보다 더 작음!\n",
    "- 호출 문법은 API따라 다르지만 표준적인 부분이 존재함. GET 요청시는 url에 입력하곤 합니다"
   ]
  },
  {
   "cell_type": "code",
   "execution_count": null,
   "metadata": {
    "collapsed": true
   },
   "outputs": [],
   "source": []
  }
 ],
 "metadata": {
  "kernelspec": {
   "display_name": "Python 3",
   "language": "python",
   "name": "python3"
  },
  "language_info": {
   "codemirror_mode": {
    "name": "ipython",
    "version": 3
   },
   "file_extension": ".py",
   "mimetype": "text/x-python",
   "name": "python",
   "nbconvert_exporter": "python",
   "pygments_lexer": "ipython3",
   "version": "3.5.2"
  }
 },
 "nbformat": 4,
 "nbformat_minor": 0
}
