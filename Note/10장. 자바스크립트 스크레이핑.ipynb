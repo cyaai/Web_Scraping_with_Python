{
 "cells": [
  {
   "cell_type": "markdown",
   "metadata": {},
   "source": [
    "# 10장. 자바스크립트 스크레이핑\n",
    "\n",
    "자바스크립트는 사용자 추적을 위한 정보 수집, 폼을 새로 고치지 않은 상태에서의 정보 전송, 멀티미디어 파일 등에 쓰임\n",
    "\n",
    "함수를 마시 변수처럼 다루는 개념은 사용자의 행동이나 콜백을 처리할 때 대단히 유용한 언어\n",
    "\n",
    "### 제이쿼리\n",
    "- 제이쿼리는 자바스크립트가 실행된 다음에 동적으로 HTML 컨텐츠를 생성할 수 있음\n",
    "\n",
    "### 구글 애널리틱스\n",
    "- 가장 널리 쓰이는 자바스크립트 라이브러리인 동시에, 가장 널리 쓰이는 사용자 추적 도구\n",
    "\n",
    "### 구글 지도\n",
    "- 구글 지도에서 위치를 표시하기 위해 가장 많이 쓰는 방법은 마커!\n",
    "- 구글의 리버스 지오코딩 API를 사용하면 분석하기 쉬운 주소로 변환할 수 있음\n",
    "\n",
    "## Ajax와 동적 HTML\n",
    "- Ajax : 페이지를 새로 고치지 않고 폼을 전송하거나 서버에서 정보를 가져옴. \n",
    "- 특정 작업을 하기 위해 사용하는 기술의 묶음\n",
    "- DHTML(Dynamic HTML) : 클라이언트 쪽 스크립트가 페이지의 HTML 요소 바뀜에 따라 바뀌는 HTML이나 CSS\n",
    "\n",
    "이 경우 해결책은 2가지\n",
    "\n",
    "1. 자바스크립트를 분석해 컨텐츠를 직접 스크랩\n",
    "\n",
    "2. 자바스크립트 자체를 실행할 수 있는 파이썬 패키지를 사용해 웹사이트를 브라우저에 보이는 그대로 스크랩\n"
   ]
  },
  {
   "cell_type": "markdown",
   "metadata": {},
   "source": [
    "## 셀레니움\n",
    "\n",
    "- 팬텀JS : 인터페이스가 없는 브라우저\n",
    "\n",
    "- pip install selenium@2.51.0  \n",
    "- http://phantomjs.org 에서 다운받은 후, bin 설정(Anaconda3/Scripts 아래에 팬텀js 바이너리 파일을 넣으면 매번 위치를 지정안해도 됨)\n",
    "\n",
    "- driver.find_elements_by_css_selector(\"#content\") \n",
    "Selenium에서 BeautifulSoup로 파싱하는 것도 가능!\n",
    "- pageSource = driver.page_source // 현 시점의 DOM을 문자열로 반환\n",
    "- bs0bj = BeautifulSoup(pageSource)\n",
    "- print(bs0bj.find(id=\"content\").get_text())"
   ]
  },
  {
   "cell_type": "code",
   "execution_count": 7,
   "metadata": {
    "collapsed": false
   },
   "outputs": [
    {
     "name": "stdout",
     "output_type": "stream",
     "text": [
      "Here is some important text you want to retrieve!\n",
      "A button to click!\n"
     ]
    }
   ],
   "source": [
    "from selenium import webdriver\n",
    "import time\n",
    "\n",
    "driver = webdriver.PhantomJS(executable_path='C:/Users/Byeon/Anaconda3/selenium/webdriver/phantomjs-2.1.1-windows/bin/phantomjs')\n",
    "driver.get(\"http://pythonscraping.com/pages/javascript/ajaxDemo.html\")\n",
    "time.sleep(5)\n",
    "print(driver.find_element_by_id(\"content\").text)\n",
    "driver.close()"
   ]
  },
  {
   "cell_type": "code",
   "execution_count": 10,
   "metadata": {
    "collapsed": false
   },
   "outputs": [
    {
     "name": "stdout",
     "output_type": "stream",
     "text": [
      "Here is some important text you want to retrieve!\n",
      "A button to click!\n"
     ]
    }
   ],
   "source": [
    "from selenium.webdriver.common.by import By\n",
    "from selenium.webdriver.support.ui import WebDriverWait\n",
    "from selenium.webdriver.support import expected_conditions as EC\n",
    "\n",
    "driver = webdriver.PhantomJS()\n",
    "driver.get(\"http://pythonscraping.com/pages/javascript/ajaxDemo.html\")\n",
    "try:\n",
    "    element = WebDriverWait(driver, 10).until(EC.presence_of_element_located((By.ID, \"loadedButton\")))\n",
    "finally:\n",
    "    print(driver.find_element_by_id(\"content\").text)\n",
    "    driver.close()"
   ]
  },
  {
   "cell_type": "markdown",
   "metadata": {},
   "source": [
    "- WebDriverWait와 expected_conditions를 사용하면 묵시적 대기 기능을 사용할 수 있음\n",
    "- 우리가 기다릴 DOM의 상태는 expected_conditions(예상 조건)으로 정의!\n",
    "\n",
    "자주 쓰이는 예상 조건\n",
    "1. 알림(Alert) 박스 팝업 \n",
    "2. 요소가 선택(selected) 상태로 바뀜 \n",
    "3. 타이틀이 바뀌거나 어떤 텍스트가 페이지 또는 특정 요소안에 표시\n",
    "4. 보이지 않던 요소가 DOM상에 보이게 되거나 어떤 요소가 사라지는 경우\n",
    "\n",
    "어떤 요소를 지켜볼지 지정해야 함! 지켜볼 요소는 위치 지정자로 정함. By 객체를 사용"
   ]
  },
  {
   "cell_type": "markdown",
   "metadata": {},
   "source": [
    "### 리다이렉트 처리"
   ]
  },
  {
   "cell_type": "code",
   "execution_count": 11,
   "metadata": {
    "collapsed": false
   },
   "outputs": [
    {
     "name": "stdout",
     "output_type": "stream",
     "text": [
      "Timing out after 10 seconds and returning\n",
      "<html><head>\n",
      "<title>The Destination Page!</title>\n",
      "\n",
      "</head>\n",
      "<body>\n",
      "This is the page you are looking for!\n",
      "\n",
      "</body></html>\n"
     ]
    }
   ],
   "source": [
    "from selenium import webdriver\n",
    "import time\n",
    "from selenium.webdriver.remote.webelement import WebElement\n",
    "from selenium.common.exceptions import StaleElementReferenceException\n",
    "\n",
    "def waitForLoad(driver):\n",
    "    elem = driver.find_element_by_tag_name(\"html\")\n",
    "    count = 0\n",
    "    while True:\n",
    "        count += 1\n",
    "        if count > 20:\n",
    "            print(\"Timing out after 10 seconds and returning\")\n",
    "            return\n",
    "        time.sleep(.5)\n",
    "        try:\n",
    "            elem == driver.find_element_by_tag_name(\"html\")\n",
    "        except StaleElementReferenceException:\n",
    "            return\n",
    "\n",
    "driver = webdriver.PhantomJS()\n",
    "driver.get(\"http://pythonscraping.com/pages/javascript/redirectDemo1.html\")\n",
    "waitForLoad(driver)\n",
    "print(driver.page_source)"
   ]
  },
  {
   "cell_type": "code",
   "execution_count": null,
   "metadata": {
    "collapsed": true
   },
   "outputs": [],
   "source": []
  }
 ],
 "metadata": {
  "kernelspec": {
   "display_name": "Python 3",
   "language": "python",
   "name": "python3"
  },
  "language_info": {
   "codemirror_mode": {
    "name": "ipython",
    "version": 3
   },
   "file_extension": ".py",
   "mimetype": "text/x-python",
   "name": "python",
   "nbconvert_exporter": "python",
   "pygments_lexer": "ipython3",
   "version": "3.5.2"
  }
 },
 "nbformat": 4,
 "nbformat_minor": 0
}
