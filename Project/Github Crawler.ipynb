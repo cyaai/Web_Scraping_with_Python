{
 "cells": [
  {
   "cell_type": "markdown",
   "metadata": {},
   "source": [
    "# Github Crawler\n",
    "\n",
    "수집할 정보 : \n",
    "\n",
    "- ID, name, country, join_date, Stars, followers, following,\n",
    "\n",
    "- 작성 repository, repository 사용 언어, 언어의 빈도 \n",
    "- 포크 repository, 유저 ID, fork repository의 주인 ID, fork repo 이름, 사용 언어, 언어의 빈도\n",
    "\n",
    "기존의 크롤러는 Selenium기반이라 너무 오래걸렸음..!\n",
    "\n",
    "셀레니움과 뷰티풀수프를 섞어서 만들어보자\n",
    "\n",
    "https://github.com/zzsza/Github-recommendation-system-using-word2vec"
   ]
  },
  {
   "cell_type": "code",
   "execution_count": null,
   "metadata": {
    "collapsed": true
   },
   "outputs": [],
   "source": []
  }
 ],
 "metadata": {
  "kernelspec": {
   "display_name": "Python 3",
   "language": "python",
   "name": "python3"
  },
  "language_info": {
   "codemirror_mode": {
    "name": "ipython",
    "version": 3
   },
   "file_extension": ".py",
   "mimetype": "text/x-python",
   "name": "python",
   "nbconvert_exporter": "python",
   "pygments_lexer": "ipython3",
   "version": "3.5.2"
  }
 },
 "nbformat": 4,
 "nbformat_minor": 0
}
